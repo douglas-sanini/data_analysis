{
 "cells": [
  {
   "cell_type": "markdown",
   "id": "9bf65a0a-5c79-42f1-9db2-5a1605fee23e",
   "metadata": {},
   "source": [
    "<font size=\"5\">Packages and Data</font>"
   ]
  },
  {
   "cell_type": "code",
   "execution_count": 63,
   "id": "5ead5086-3d87-4153-98e8-ecf05e02869d",
   "metadata": {},
   "outputs": [],
   "source": [
    "#numcosmo packages\n",
    "try:\n",
    "  import gi\n",
    "  gi.require_version('NumCosmo', '1.0')\n",
    "  gi.require_version('NumCosmoMath', '1.0')\n",
    "except:\n",
    "  pass\n",
    "\n",
    "import math\n",
    "from gi.repository import NumCosmo as Nc\n",
    "from gi.repository import NumCosmoMath as Ncm"
   ]
  },
  {
   "cell_type": "code",
   "execution_count": 64,
   "id": "43a5de2d-78c3-4668-870f-fed58cada927",
   "metadata": {},
   "outputs": [],
   "source": [
    "#math and stats packages\n",
    "import numpy as np\n",
    "from numpy import array\n",
    "from numpy.lib.scimath import log10\n",
    "\n",
    "import scipy as sp\n",
    "from scipy.integrate import quad\n",
    "from scipy.optimize import minimize\n",
    "\n",
    "import pandas as pd"
   ]
  },
  {
   "cell_type": "code",
   "execution_count": 65,
   "id": "567444cf-67cf-45bd-8c06-bcc4a9b861a7",
   "metadata": {},
   "outputs": [],
   "source": [
    "ser = Ncm.Serialize.new(0)\n",
    "Ncm.cfg_init()\n",
    "ser = Ncm.Serialize.new(0)\n",
    "data = ser.from_file(\"/home/dougma13/NumCosmo/data/nc_data_snia_diag_legacy.obj\")\n",
    "length = data.y.len()"
   ]
  },
  {
   "cell_type": "code",
   "execution_count": 67,
   "id": "7fbecb5e-dc72-4c15-97d6-ff69a198f9ea",
   "metadata": {},
   "outputs": [],
   "source": [
    "mu_o = []\n",
    "sig_o = []\n",
    "z_o = []\n",
    "\n",
    "for i in range(length):\n",
    "    mu_i = data.y.get(i)\n",
    "    sig_i = data.sigma.get(i)\n",
    "    z_i = data.x.get(i)\n",
    "    \n",
    "    mu_o.append(mu_i)\n",
    "    sig_o.append(sig_i)\n",
    "    z_o.append(z_i)\n",
    "\n",
    "#speed of light\n",
    "c = 3 * 10 ** 5 #km/s"
   ]
  },
  {
   "cell_type": "markdown",
   "id": "ea92ee20-b0c1-4916-8ea6-bf04a511a26b",
   "metadata": {},
   "source": [
    "<font size=\"6\">a)</font> $\\;$ Given that \n",
    "\n",
    "$$ \\theta = (H_0, \\Omega_{k0}, \\Omega_{m0}, \\Omega_{r0}, \\Omega_{\\Lambda0}), $$\n",
    "\n",
    "that our likelihood is equal to\n",
    "\n",
    "$$L(D|\\theta) = e^{-\\frac{1}{2} \\sum_i \\frac{(\\mu - \\mu_i)^2}{\\sigma_i^2}}, $$\n",
    "\n",
    "and that $\\Omega_{k0} = \\Omega_{r0} = 0$, calculate the best fit, the fisher information and using the likelihood ratios test, calculate the confidence levels for $1\\sigma$ , $2\\sigma$ and $3\\sigma$. Confidence levels need to be calculated only with two parameters at a time. "
   ]
  },
  {
   "cell_type": "markdown",
   "id": "4f5049e7-5dbf-4196-b239-1c6986c2953f",
   "metadata": {},
   "source": [
    "<font size=\"4\"> Likelihood Function (-2lnL)</font>"
   ]
  },
  {
   "cell_type": "code",
   "execution_count": 91,
   "id": "f327cba7-85ff-4e8d-bc72-51283906096c",
   "metadata": {},
   "outputs": [],
   "source": [
    "#individual factor of sum in -2lnL (L being the likelihood)\n",
    "def chi2_i(z, theta, mu, sig):\n",
    "    \n",
    "    #inverse of the Hubble function\n",
    "    def E_inv(z, theta):\n",
    "        return (theta[0] + theta[1]*(1 + z)**3)**(-0.5)\n",
    "    \n",
    "    #comoving distance with no dimensions\n",
    "    def D_c(z, theta):\n",
    "        return quad(E_inv, 0, z, args = theta[0:2])[0]\n",
    "    \n",
    "    ##temporal comoving distance\n",
    "    #D_t = D_c #for when omega_k = 0\n",
    "    \n",
    "    #luminostiy distance\n",
    "    def D_L(z, theta):\n",
    "        return (1 + z)*D_c(z, theta)\n",
    "    \n",
    "    #modular distance \n",
    "    def mu_c(z, theta):\n",
    "        return 5*log10(D_L(z, theta)) + 25 + 5*log10(c/theta[2])\n",
    "    \n",
    "    return ((mu_c(z, theta) - mu)**2)/(sig**2) \n",
    "\n",
    "#actual -2lnL summing over all factors\n",
    "def chi2(theta):\n",
    "    chi2_list = []\n",
    "    for i in range(length):\n",
    "        chi2_list.append(chi2_i(z_o[i], theta, mu_o[i], sig_o[i]))\n",
    "    return sum(chi2_list)"
   ]
  },
  {
   "cell_type": "markdown",
   "id": "f5e04c54-6b9d-4806-8ae3-327f5a9b89f7",
   "metadata": {},
   "source": [
    "<font size=\"4\"> Best Fit (Minimize -2lnL)"
   ]
  },
  {
   "cell_type": "code",
   "execution_count": 93,
   "id": "997a46f0-e850-4bdd-bb0d-fb7231ed1a41",
   "metadata": {},
   "outputs": [
    {
     "name": "stdout",
     "output_type": "stream",
     "text": [
      "[ omega_l  omega_m  H0 ] \n",
      " [ 0.71600744  0.25476161 71.11068382] \n"
     ]
    }
   ],
   "source": [
    "param = [0.70, 0.25, 70.0]\n",
    "\n",
    "\n",
    "mini = minimize(chi2, x0 = param, method='Nelder-Mead', bounds = ((0,1), (0,1), (0, None)), tol=1e-6)\n",
    "\n",
    "print(f'[ omega_l  omega_m  H0 ] \\n {mini.x} ')"
   ]
  },
  {
   "cell_type": "markdown",
   "id": "54ef07c8-6a35-4f87-bd78-d59b99f89168",
   "metadata": {},
   "source": [
    "<font size=\"6\">b)</font> $\\;$ Now repeat everything from a), except with all free parameters."
   ]
  },
  {
   "cell_type": "markdown",
   "id": "c427e97a-b26d-4b10-aaf8-232df2f17eb8",
   "metadata": {},
   "source": [
    "<font size=\"4\"> Likelihood Function (-2lnL)</font>"
   ]
  },
  {
   "cell_type": "code",
   "execution_count": 94,
   "id": "458f4eb2-b375-45f6-9f39-3205fe7857cc",
   "metadata": {},
   "outputs": [],
   "source": [
    "#individual factor of sum in -2lnL (L being the likelihood)\n",
    "def chi2_i(z, theta, mu, sig):\n",
    "    \n",
    "    #inverse of the Hubble function\n",
    "    def E_inv(z, theta):\n",
    "        return (theta[0] + theta[3]*(1 + z)**2 + theta[1]*(1 + z)**3 + theta[4]*(1 + z)**4)**(-0.5)\n",
    "    \n",
    "    #comoving distance with no dimensions\n",
    "    def D_c(z, theta):\n",
    "        return quad(E_inv, 0, z, args = theta)[0]\n",
    "    \n",
    "    #temporal comoving distance\n",
    "    def D_t(z, theta):\n",
    "        return np.sinh((theta[3])**0.5 * D_c(z, theta))/(theta[3])**0.5\n",
    "    \n",
    "    #luminostiy distance\n",
    "    def D_L(z, theta):\n",
    "        return (1 + z)*D_c(z, theta)\n",
    "    \n",
    "    #modular distance \n",
    "    def mu_c(z, theta):\n",
    "        return 5*log10(D_L(z, theta)) + 25 + 5*log10(c/theta[2])\n",
    "    \n",
    "    return ((mu_c(z, theta) - mu)**2)/(sig**2) \n",
    "\n",
    "#actual -2lnL summing over all factors\n",
    "def chi2(theta):\n",
    "    chi2_list = []\n",
    "    for i in range(length):\n",
    "        chi2_list.append(chi2_i(z_o[i], theta, mu_o[i], sig_o[i]))\n",
    "    return sum(chi2_list)"
   ]
  },
  {
   "cell_type": "markdown",
   "id": "3e422fe0-ae5f-4d4e-8274-ab3853d05a31",
   "metadata": {},
   "source": [
    "<font size=\"4\"> Best Fit (Minimize -2lnL)"
   ]
  },
  {
   "cell_type": "code",
   "execution_count": 95,
   "id": "60eeea3c-86be-46db-a595-99ded0f68571",
   "metadata": {},
   "outputs": [
    {
     "name": "stdout",
     "output_type": "stream",
     "text": [
      " omega_l = 0.9854003856093903 \n",
      " omega_m = 0.3506111915643809 \n",
      " H0 = 60.6171107483821 \n",
      " omega_k = 0.0 \n",
      " omega_r = 0.0\n"
     ]
    }
   ],
   "source": [
    "params = [0.70, 0.25, 70.0, 0.02, 1e-05]\n",
    "\n",
    "mini = minimize(chi2, x0 = params, method='Nelder-Mead', bounds = ((0,1), (0,1), (0, None), (0,1), (0,1)), tol=1e-6)\n",
    "\n",
    "print(f' omega_l = {mini.x[0]} \\n omega_m = {mini.x[1]} \\n H0 = {mini.x[2]} \\n omega_k = {mini.x[3]} \\n omega_r = {mini.x[4]}')"
   ]
  },
  {
   "cell_type": "code",
   "execution_count": null,
   "id": "65b536e2-7e55-46f3-8dc1-1b0b78d94920",
   "metadata": {},
   "outputs": [],
   "source": [
    "70.0, 0.02, 0.25, 0.70, 1e-05]\n",
    "H0, Omega_k0, Omega_m0, Omega_l0, Omega_r0 "
   ]
  }
 ],
 "metadata": {
  "kernelspec": {
   "display_name": "Python 3 (ipykernel)",
   "language": "python",
   "name": "python3"
  },
  "language_info": {
   "codemirror_mode": {
    "name": "ipython",
    "version": 3
   },
   "file_extension": ".py",
   "mimetype": "text/x-python",
   "name": "python",
   "nbconvert_exporter": "python",
   "pygments_lexer": "ipython3",
   "version": "3.10.4"
  }
 },
 "nbformat": 4,
 "nbformat_minor": 5
}
