{
 "cells": [
  {
   "cell_type": "code",
   "execution_count": 1,
   "id": "f6dbaa39",
   "metadata": {},
   "outputs": [
    {
     "data": {
      "text/plain": [
       "[<matplotlib.lines.Line2D at 0x7fdbd177af70>]"
      ]
     },
     "execution_count": 1,
     "metadata": {},
     "output_type": "execute_result"
    },
    {
     "data": {
      "image/png": "[encoded data removed]",
      "text/plain": [
       "<Figure size 432x288 with 1 Axes>"
      ]
     },
     "metadata": {
      "needs_background": "light"
     },
     "output_type": "display_data"
    }
   ],
   "source": [
    "import scipy as sp\n",
    "import numpy as np\n",
    "from numpy import array\n",
    "import matplotlib.pyplot as plt\n",
    "\n",
    "\n",
    "def gfunc(x: float, mu: float, sigma: float):\n",
    "    #just a gaussian function\n",
    "    \n",
    "    return (np.exp(((-(x - mu)**2)/ 2 * sigma**2))/(sigma * (2*np.pi)**(1/2)))\n",
    "\n",
    "\n",
    "def gdist(x: array, mu: float, sigma: float):\n",
    "    #gaussian distribution\n",
    "    y = array([])\n",
    "    for i in range(0,len(x)):\n",
    "        y = np.append(y, gfunc(x[i], mu, sigma))\n",
    "\n",
    "    return y\n",
    "\n",
    "\n",
    "def lin_interpolation(y1: float, y2: float, x1: float, x2: float, x: float):\n",
    "    #linear interpolation equation\n",
    "    \n",
    "    return (y1 + (y2 - y1)*(x - x1)/(x2 - x1))\n",
    "\n",
    "\n",
    "def x_inter(x: array):\n",
    "    #values of x for gaussian distribution + values of x for interpolated values\n",
    "    _x = array([])\n",
    "    for i in range(len(x)-1):\n",
    "        _x = np.append(_x, x[i])\n",
    "        _x = np.append(_x, np.mean([x[i],x[i+1]]))\n",
    "    _x = np.append(_x, x[-1])\n",
    "    \n",
    "    return _x\n",
    "\n",
    "def gdist_inter(x: array, y: array):\n",
    "    #gaussian distribution + interpolated values\n",
    "    _y = array([])\n",
    "    for i in range(len(y)-1):\n",
    "        _y = np.append(_y, y[i])\n",
    "        _y = np.append(_y, lin_interpolation(y[i], y[i+1], x[i], x[i+1], np.mean([x[i],x[i+1]])))\n",
    "    _y = np.append(_y, y[-1])\n",
    "    \n",
    "    return _y\n",
    "    \n",
    "    \n",
    "mu = 0\n",
    "sigma = 1\n",
    "x = np.linspace(-5,5,num = 50)\n",
    "y = gdist(x,mu,sigma)\n",
    "\n",
    "#plotting gaussian function\n",
    "plt.plot(x, y, c = 'r')\n",
    "\n",
    "\n",
    "_x = np.linspace(-5,5,num=19)\n",
    "_y = gdist(_x,mu,sigma)\n",
    "\n",
    "#plotting points before linear interpolation\n",
    "plt.plot(_x, _y, 'o')\n"
   ]
  },
  {
   "cell_type": "code",
   "execution_count": 35,
   "id": "1c2df263",
   "metadata": {},
   "outputs": [
    {
     "name": "stdout",
     "output_type": "stream",
     "text": [
      "37\n"
     ]
    }
   ],
   "source": [
    "#Checking arrays created\n",
    "gdist_var = gdist(_x, mu, sigma)\n",
    "all_x = x_inter(_x)\n",
    "print(len(all_x))"
   ]
  },
  {
   "cell_type": "code",
   "execution_count": 36,
   "id": "99ecf861",
   "metadata": {},
   "outputs": [
    {
     "name": "stdout",
     "output_type": "stream",
     "text": [
      "37\n"
     ]
    }
   ],
   "source": [
    "all_y = gdist_inter(all_x, gdist_var)\n",
    "print(len(all_y))"
   ]
  },
  {
   "cell_type": "code",
   "execution_count": 38,
   "id": "47fcffe7",
   "metadata": {},
   "outputs": [
    {
     "data": {
      "text/plain": [
       "[<matplotlib.lines.Line2D at 0x7faa27d18940>]"
      ]
     },
     "execution_count": 38,
     "metadata": {},
     "output_type": "execute_result"
    },
    {
     "data": {
      "image/png": "[encoded data removed]",
      "text/plain": [
       "<Figure size 432x288 with 1 Axes>"
      ]
     },
     "metadata": {
      "needs_background": "light"
     },
     "output_type": "display_data"
    }
   ],
   "source": [
    "#plotting point after interpolation\n",
    "plt.plot(x, y, c = 'r')\n",
    "plt.plot(all_x, all_y, 'o')\n"
   ]
  },
  {
   "cell_type": "code",
   "execution_count": null,
   "id": "5d36c34a",
   "metadata": {},
   "outputs": [],
   "source": []
  }
 ],
 "metadata": {
  "kernelspec": {
   "display_name": "Python 3 (ipykernel)",
   "language": "python",
   "name": "python3"
  },
  "language_info": {
   "codemirror_mode": {
    "name": "ipython",
    "version": 3
   },
   "file_extension": ".py",
   "mimetype": "text/x-python",
   "name": "python",
   "nbconvert_exporter": "python",
   "pygments_lexer": "ipython3",
   "version": "3.8.10"
  }
 },
 "nbformat": 4,
 "nbformat_minor": 5
}
